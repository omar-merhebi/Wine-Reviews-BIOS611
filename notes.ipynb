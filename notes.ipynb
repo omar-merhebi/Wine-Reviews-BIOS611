{
 "cells": [
  {
   "cell_type": "markdown",
   "metadata": {},
   "source": [
    "this is just a temporary file for exploratory data analysis that will be deleted later. "
   ]
  }
 ],
 "metadata": {
  "language_info": {
   "name": "python"
  }
 },
 "nbformat": 4,
 "nbformat_minor": 2
}
